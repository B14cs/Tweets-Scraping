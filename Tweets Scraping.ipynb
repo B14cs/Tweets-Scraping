{
 "cells": [
  {
   "cell_type": "markdown",
   "metadata": {},
   "source": [
    "# Importing the libraries"
   ]
  },
  {
   "cell_type": "code",
   "execution_count": 1,
   "metadata": {},
   "outputs": [],
   "source": [
    "from ntscraper import Nitter\n",
    "import pandas as pd"
   ]
  },
  {
   "cell_type": "markdown",
   "metadata": {},
   "source": [
    "## Initialize scraper library"
   ]
  },
  {
   "cell_type": "code",
   "execution_count": 2,
   "metadata": {},
   "outputs": [
    {
     "name": "stderr",
     "output_type": "stream",
     "text": [
      "Testing instances: 100%|██████████| 21/21 [00:25<00:00,  1.20s/it]\n"
     ]
    }
   ],
   "source": [
    "scraper = Nitter(0)"
   ]
  },
  {
   "cell_type": "markdown",
   "metadata": {},
   "source": [
    "### Multipule keywords"
   ]
  },
  {
   "cell_type": "markdown",
   "metadata": {},
   "source": [
    "#### Multipule keywords function"
   ]
  },
  {
   "cell_type": "code",
   "execution_count": 3,
   "metadata": {},
   "outputs": [],
   "source": [
    "# Define a scraping function that will returns its results in the table.\n",
    "def get_tweets(query, size):\n",
    "    # Begin scraping\n",
    "    Multi_tweets = scraper.get_tweets(query, number=size)\n",
    "    final_tweets = []\n",
    "    # Append each tweet to the final_tweets list using specific roles\n",
    "    for tweets in Multi_tweets:\n",
    "        for tweet in tweets[\"tweets\"]:\n",
    "            data = [\n",
    "                tweet[\"user\"][\"name\"],\n",
    "                tweet[\"user\"][\"username\"],\n",
    "                tweet[\"date\"],\n",
    "                tweet[\"text\"],\n",
    "                tweet[\"stats\"][\"comments\"],\n",
    "                tweet[\"stats\"][\"retweets\"],\n",
    "                tweet[\"stats\"][\"quotes\"],\n",
    "                tweet[\"stats\"][\"likes\"],\n",
    "                tweet[\"link\"],\n",
    "            ]\n",
    "            final_tweets.append(data)\n",
    "    # Making a DataFrame\n",
    "    data = pd.DataFrame(final_tweets, columns=[\"name\", \"username\", \"date\", \"text\", \"comments\", \"retweets\",\"quotes\", \"likes\", \"link\"])\n",
    "    return data"
   ]
  },
  {
   "cell_type": "markdown",
   "metadata": {},
   "source": [
    "#### Keywords preparing"
   ]
  },
  {
   "cell_type": "code",
   "execution_count": 4,
   "metadata": {},
   "outputs": [],
   "source": [
    "keywords = [\n",
    "    'Good Night',\n",
    "    'Good Afternoon',\n",
    "    'Good Morning'\n",
    "]\n",
    "NoOfTweets = 10"
   ]
  },
  {
   "cell_type": "markdown",
   "metadata": {},
   "source": [
    "#### Scraping function calling"
   ]
  },
  {
   "cell_type": "code",
   "execution_count": 5,
   "metadata": {},
   "outputs": [],
   "source": [
    "mdf = get_tweets(keywords, NoOfTweets)"
   ]
  },
  {
   "cell_type": "markdown",
   "metadata": {},
   "source": [
    "#### Show the DataFrame"
   ]
  },
  {
   "cell_type": "code",
   "execution_count": 6,
   "metadata": {},
   "outputs": [
    {
     "data": {
      "text/html": [
       "<div>\n",
       "<style scoped>\n",
       "    .dataframe tbody tr th:only-of-type {\n",
       "        vertical-align: middle;\n",
       "    }\n",
       "\n",
       "    .dataframe tbody tr th {\n",
       "        vertical-align: top;\n",
       "    }\n",
       "\n",
       "    .dataframe thead th {\n",
       "        text-align: right;\n",
       "    }\n",
       "</style>\n",
       "<table border=\"1\" class=\"dataframe\">\n",
       "  <thead>\n",
       "    <tr style=\"text-align: right;\">\n",
       "      <th></th>\n",
       "      <th>name</th>\n",
       "      <th>username</th>\n",
       "      <th>date</th>\n",
       "      <th>text</th>\n",
       "      <th>comments</th>\n",
       "      <th>retweets</th>\n",
       "      <th>quotes</th>\n",
       "      <th>likes</th>\n",
       "      <th>link</th>\n",
       "    </tr>\n",
       "  </thead>\n",
       "  <tbody>\n",
       "    <tr>\n",
       "      <th>0</th>\n",
       "      <td>Mike Vega</td>\n",
       "      <td>@MiguelV96252760</td>\n",
       "      <td>Feb 17, 2024 · 7:47 AM UTC</td>\n",
       "      <td>Good Night Dani abrazo grande bendiciones 💪🏻💪🏻💪🏻</td>\n",
       "      <td>0</td>\n",
       "      <td>0</td>\n",
       "      <td>0</td>\n",
       "      <td>0</td>\n",
       "      <td>https://twitter.com/MiguelV96252760/status/175...</td>\n",
       "    </tr>\n",
       "    <tr>\n",
       "      <th>1</th>\n",
       "      <td>s u m m e r 🦦</td>\n",
       "      <td>@natsutoyuuhi</td>\n",
       "      <td>Feb 17, 2024 · 3:20 AM UTC</td>\n",
       "      <td>여자들이 계속 보수적으로 폐쇄적으로 구는 것 같아 보이는 근본적인 이유가 저거임 여...</td>\n",
       "      <td>1</td>\n",
       "      <td>378</td>\n",
       "      <td>8</td>\n",
       "      <td>317</td>\n",
       "      <td>https://twitter.com/natsutoyuuhi/status/175869...</td>\n",
       "    </tr>\n",
       "    <tr>\n",
       "      <th>2</th>\n",
       "      <td>ㅌㅊㅅ응답없음</td>\n",
       "      <td>@goodnight_y0</td>\n",
       "      <td>Feb 17, 2024 · 7:47 AM UTC</td>\n",
       "      <td>저거 뭐야 찐빵이야?</td>\n",
       "      <td>0</td>\n",
       "      <td>0</td>\n",
       "      <td>0</td>\n",
       "      <td>0</td>\n",
       "      <td>https://twitter.com/goodnight_y0/status/175875...</td>\n",
       "    </tr>\n",
       "    <tr>\n",
       "      <th>3</th>\n",
       "      <td>Hikaru Ryuuzaki 🎧💙</td>\n",
       "      <td>@HikaruRyuuzaki_</td>\n",
       "      <td>Feb 17, 2024 · 7:47 AM UTC</td>\n",
       "      <td>It's okay Kuro, your pals will be waiting for ...</td>\n",
       "      <td>0</td>\n",
       "      <td>0</td>\n",
       "      <td>0</td>\n",
       "      <td>0</td>\n",
       "      <td>https://twitter.com/HikaruRyuuzaki_/status/175...</td>\n",
       "    </tr>\n",
       "    <tr>\n",
       "      <th>4</th>\n",
       "      <td>ASTRO Stuffs</td>\n",
       "      <td>@Astrostuffs_TH</td>\n",
       "      <td>Feb 17, 2024 · 4:00 AM UTC</td>\n",
       "      <td>Get a good night’s sleep.  Available until 18 ...</td>\n",
       "      <td>1</td>\n",
       "      <td>991</td>\n",
       "      <td>8</td>\n",
       "      <td>1172</td>\n",
       "      <td>https://twitter.com/Astrostuffs_TH/status/1758...</td>\n",
       "    </tr>\n",
       "  </tbody>\n",
       "</table>\n",
       "</div>"
      ],
      "text/plain": [
       "                 name          username                        date  \\\n",
       "0           Mike Vega  @MiguelV96252760  Feb 17, 2024 · 7:47 AM UTC   \n",
       "1       s u m m e r 🦦     @natsutoyuuhi  Feb 17, 2024 · 3:20 AM UTC   \n",
       "2             ㅌㅊㅅ응답없음     @goodnight_y0  Feb 17, 2024 · 7:47 AM UTC   \n",
       "3  Hikaru Ryuuzaki 🎧💙  @HikaruRyuuzaki_  Feb 17, 2024 · 7:47 AM UTC   \n",
       "4        ASTRO Stuffs   @Astrostuffs_TH  Feb 17, 2024 · 4:00 AM UTC   \n",
       "\n",
       "                                                text  comments  retweets  \\\n",
       "0   Good Night Dani abrazo grande bendiciones 💪🏻💪🏻💪🏻         0         0   \n",
       "1  여자들이 계속 보수적으로 폐쇄적으로 구는 것 같아 보이는 근본적인 이유가 저거임 여...         1       378   \n",
       "2                                        저거 뭐야 찐빵이야?         0         0   \n",
       "3  It's okay Kuro, your pals will be waiting for ...         0         0   \n",
       "4  Get a good night’s sleep.  Available until 18 ...         1       991   \n",
       "\n",
       "   quotes  likes                                               link  \n",
       "0       0      0  https://twitter.com/MiguelV96252760/status/175...  \n",
       "1       8    317  https://twitter.com/natsutoyuuhi/status/175869...  \n",
       "2       0      0  https://twitter.com/goodnight_y0/status/175875...  \n",
       "3       0      0  https://twitter.com/HikaruRyuuzaki_/status/175...  \n",
       "4       8   1172  https://twitter.com/Astrostuffs_TH/status/1758...  "
      ]
     },
     "execution_count": 6,
     "metadata": {},
     "output_type": "execute_result"
    }
   ],
   "source": [
    "mdf.head()"
   ]
  },
  {
   "cell_type": "markdown",
   "metadata": {},
   "source": [
    "#### Saving the DataFrame as a CSV file"
   ]
  },
  {
   "cell_type": "code",
   "execution_count": 7,
   "metadata": {},
   "outputs": [],
   "source": [
    "words = \", \".join(keywords)\n",
    "mdf.to_csv(f\"{words} keywords.csv\", encoding=\"utf-8-sig\")"
   ]
  },
  {
   "cell_type": "markdown",
   "metadata": {},
   "source": [
    "### Single keyword"
   ]
  },
  {
   "cell_type": "markdown",
   "metadata": {},
   "source": [
    "#### Single keyword function"
   ]
  },
  {
   "cell_type": "code",
   "execution_count": 8,
   "metadata": {},
   "outputs": [],
   "source": [
    "# Define a scraping function that will returns its results in the table.\n",
    "def get_single_tweet(query, size):\n",
    "    # Begin scraping\n",
    "    tweets = scraper.get_tweets(query, number=size)\n",
    "    final_tweets = []\n",
    "    # Append each tweet to the final_tweets list using specific roles\n",
    "    for tweet in tweets[\"tweets\"]:\n",
    "        data = [\n",
    "            tweet[\"user\"][\"name\"],\n",
    "            tweet[\"user\"][\"username\"],\n",
    "            tweet[\"date\"],\n",
    "            tweet[\"text\"],\n",
    "            tweet['stats']['comments'],\n",
    "            tweet['stats']['retweets'],\n",
    "            tweet['stats']['quotes'],\n",
    "            tweet['stats']['likes'],\n",
    "            tweet[\"link\"],\n",
    "        ]\n",
    "        final_tweets.append(data)\n",
    "    # Making a DataFrame\n",
    "    data = pd.DataFrame(final_tweets, columns=[\"name\", \"username\", \"date\", \"text\", \"comments\", \"retweets\",\"quotes\", \"likes\", \"link\"])\n",
    "    return data"
   ]
  },
  {
   "cell_type": "markdown",
   "metadata": {},
   "source": [
    "#### Keyword preparing"
   ]
  },
  {
   "cell_type": "code",
   "execution_count": 9,
   "metadata": {},
   "outputs": [],
   "source": [
    "keyword = 'Good Morning'\n",
    "NoOfTweets = 10"
   ]
  },
  {
   "cell_type": "markdown",
   "metadata": {},
   "source": [
    "#### Scraping function calling"
   ]
  },
  {
   "cell_type": "code",
   "execution_count": 10,
   "metadata": {},
   "outputs": [],
   "source": [
    "sdf = get_single_tweet(keyword, NoOfTweets)"
   ]
  },
  {
   "cell_type": "markdown",
   "metadata": {},
   "source": [
    "#### Show the DataFrame"
   ]
  },
  {
   "cell_type": "code",
   "execution_count": 11,
   "metadata": {},
   "outputs": [
    {
     "data": {
      "text/html": [
       "<div>\n",
       "<style scoped>\n",
       "    .dataframe tbody tr th:only-of-type {\n",
       "        vertical-align: middle;\n",
       "    }\n",
       "\n",
       "    .dataframe tbody tr th {\n",
       "        vertical-align: top;\n",
       "    }\n",
       "\n",
       "    .dataframe thead th {\n",
       "        text-align: right;\n",
       "    }\n",
       "</style>\n",
       "<table border=\"1\" class=\"dataframe\">\n",
       "  <thead>\n",
       "    <tr style=\"text-align: right;\">\n",
       "      <th></th>\n",
       "      <th>name</th>\n",
       "      <th>username</th>\n",
       "      <th>date</th>\n",
       "      <th>text</th>\n",
       "      <th>comments</th>\n",
       "      <th>retweets</th>\n",
       "      <th>quotes</th>\n",
       "      <th>likes</th>\n",
       "      <th>link</th>\n",
       "    </tr>\n",
       "  </thead>\n",
       "  <tbody>\n",
       "    <tr>\n",
       "      <th>0</th>\n",
       "      <td>Through the lens</td>\n",
       "      <td>@Through54603659</td>\n",
       "      <td>Feb 17, 2024 · 7:47 AM UTC</td>\n",
       "      <td>Good morning</td>\n",
       "      <td>0</td>\n",
       "      <td>0</td>\n",
       "      <td>0</td>\n",
       "      <td>0</td>\n",
       "      <td>https://twitter.com/Through54603659/status/175...</td>\n",
       "    </tr>\n",
       "    <tr>\n",
       "      <th>1</th>\n",
       "      <td>انصافین</td>\n",
       "      <td>@KamranR40700480</td>\n",
       "      <td>Feb 17, 2024 · 12:09 AM UTC</td>\n",
       "      <td>🥀اسلام وعلیکم ورحمتہ اللہ وبرکاتہ🥀🌹  رسولِ کری...</td>\n",
       "      <td>283</td>\n",
       "      <td>21</td>\n",
       "      <td>1</td>\n",
       "      <td>317</td>\n",
       "      <td>https://twitter.com/KamranR40700480/status/175...</td>\n",
       "    </tr>\n",
       "    <tr>\n",
       "      <th>2</th>\n",
       "      <td>OBIdient Nation POssible</td>\n",
       "      <td>@NelzvilleTweet</td>\n",
       "      <td>Feb 17, 2024 · 7:47 AM UTC</td>\n",
       "      <td>@wifisupport1, Good morning. Why is my Interne...</td>\n",
       "      <td>0</td>\n",
       "      <td>0</td>\n",
       "      <td>0</td>\n",
       "      <td>0</td>\n",
       "      <td>https://twitter.com/NelzvilleTweet/status/1758...</td>\n",
       "    </tr>\n",
       "    <tr>\n",
       "      <th>3</th>\n",
       "      <td>Muhammad Taqi Hussai</td>\n",
       "      <td>@taqihussain31</td>\n",
       "      <td>Feb 17, 2024 · 7:47 AM UTC</td>\n",
       "      <td>Assalamualaikum Good Morning 🌞</td>\n",
       "      <td>0</td>\n",
       "      <td>0</td>\n",
       "      <td>0</td>\n",
       "      <td>0</td>\n",
       "      <td>https://twitter.com/taqihussain31/status/17587...</td>\n",
       "    </tr>\n",
       "    <tr>\n",
       "      <th>4</th>\n",
       "      <td>Ⓜ️ⒶⓇⒸ ♡</td>\n",
       "      <td>@MHN_Partages</td>\n",
       "      <td>Feb 17, 2024 · 6:00 AM UTC</td>\n",
       "      <td>Good morning🦋☀️🦋</td>\n",
       "      <td>29</td>\n",
       "      <td>55</td>\n",
       "      <td>0</td>\n",
       "      <td>143</td>\n",
       "      <td>https://twitter.com/MHN_Partages/status/175873...</td>\n",
       "    </tr>\n",
       "  </tbody>\n",
       "</table>\n",
       "</div>"
      ],
      "text/plain": [
       "                       name          username                         date  \\\n",
       "0          Through the lens  @Through54603659   Feb 17, 2024 · 7:47 AM UTC   \n",
       "1                   انصافین  @KamranR40700480  Feb 17, 2024 · 12:09 AM UTC   \n",
       "2  OBIdient Nation POssible   @NelzvilleTweet   Feb 17, 2024 · 7:47 AM UTC   \n",
       "3      Muhammad Taqi Hussai    @taqihussain31   Feb 17, 2024 · 7:47 AM UTC   \n",
       "4                   Ⓜ️ⒶⓇⒸ ♡     @MHN_Partages   Feb 17, 2024 · 6:00 AM UTC   \n",
       "\n",
       "                                                text  comments  retweets  \\\n",
       "0                                       Good morning         0         0   \n",
       "1  🥀اسلام وعلیکم ورحمتہ اللہ وبرکاتہ🥀🌹  رسولِ کری...       283        21   \n",
       "2  @wifisupport1, Good morning. Why is my Interne...         0         0   \n",
       "3                     Assalamualaikum Good Morning 🌞         0         0   \n",
       "4                                   Good morning🦋☀️🦋        29        55   \n",
       "\n",
       "   quotes  likes                                               link  \n",
       "0       0      0  https://twitter.com/Through54603659/status/175...  \n",
       "1       1    317  https://twitter.com/KamranR40700480/status/175...  \n",
       "2       0      0  https://twitter.com/NelzvilleTweet/status/1758...  \n",
       "3       0      0  https://twitter.com/taqihussain31/status/17587...  \n",
       "4       0    143  https://twitter.com/MHN_Partages/status/175873...  "
      ]
     },
     "execution_count": 11,
     "metadata": {},
     "output_type": "execute_result"
    }
   ],
   "source": [
    "sdf.head()"
   ]
  },
  {
   "cell_type": "markdown",
   "metadata": {},
   "source": [
    "#### Saving the DataFrame as a CSV file"
   ]
  },
  {
   "cell_type": "code",
   "execution_count": 12,
   "metadata": {},
   "outputs": [],
   "source": [
    "sdf.to_csv(f\"{keyword}.csv\", encoding=\"utf-8-sig\")"
   ]
  }
 ],
 "metadata": {
  "kernelspec": {
   "display_name": "Python 3",
   "language": "python",
   "name": "python3"
  },
  "language_info": {
   "codemirror_mode": {
    "name": "ipython",
    "version": 3
   },
   "file_extension": ".py",
   "mimetype": "text/x-python",
   "name": "python",
   "nbconvert_exporter": "python",
   "pygments_lexer": "ipython3",
   "version": "3.11.4"
  }
 },
 "nbformat": 4,
 "nbformat_minor": 2
}
